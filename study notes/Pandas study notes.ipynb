{
 "cells": [
  {
   "cell_type": "markdown",
   "id": "715d96b0",
   "metadata": {},
   "source": [
    "# Pandas学习笔记"
   ]
  },
  {
   "cell_type": "code",
   "execution_count": 1,
   "id": "e9c58361",
   "metadata": {},
   "outputs": [],
   "source": [
    "import pandas as pd\n",
    "import numpy as np"
   ]
  },
  {
   "cell_type": "markdown",
   "id": "654f766b",
   "metadata": {},
   "source": [
    "1. Pandas数据结构介绍与创建"
   ]
  },
  {
   "cell_type": "code",
   "execution_count": 2,
   "id": "1c37d3cf",
   "metadata": {},
   "outputs": [],
   "source": [
    "x = pd.Series(['1', '2', '3'])"
   ]
  }
 ],
 "metadata": {
  "kernelspec": {
   "display_name": "Python 3",
   "language": "python",
   "name": "python3"
  },
  "language_info": {
   "codemirror_mode": {
    "name": "ipython",
    "version": 3
   },
   "file_extension": ".py",
   "mimetype": "text/x-python",
   "name": "python",
   "nbconvert_exporter": "python",
   "pygments_lexer": "ipython3",
   "version": "3.8.6"
  }
 },
 "nbformat": 4,
 "nbformat_minor": 5
}
